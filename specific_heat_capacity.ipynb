{
 "cells": [
  {
   "cell_type": "markdown",
   "metadata": {},
   "source": [
    "The formula for mass is given by the following:\n",
    "\n",
    "![mass_formula](mass_formula.png)"
   ]
  }
 ],
 "metadata": {
  "kernelspec": {
   "display_name": "Python 3.10.4 ('ml')",
   "language": "python",
   "name": "python3"
  },
  "language_info": {
   "name": "python",
   "version": "3.10.4"
  },
  "orig_nbformat": 4,
  "vscode": {
   "interpreter": {
    "hash": "c526402f38749dae0827a0761c2faa57be961708636b6e5d1008811c29bd36a0"
   }
  }
 },
 "nbformat": 4,
 "nbformat_minor": 2
}
