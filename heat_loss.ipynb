{
 "cells": [
  {
   "cell_type": "code",
   "execution_count": 23,
   "metadata": {},
   "outputs": [],
   "source": [
    "import os\n",
    "import pandas as pd\n",
    "import numpy as np\n",
    "import uncertainties as unc"
   ]
  },
  {
   "cell_type": "markdown",
   "metadata": {},
   "source": [
    "\\begin{equation}\n",
    "    Q = 2k\\pi l \\frac{\\Delta T}{\\ln{r_2} - \\ln{r_1}}\\\\\n",
    "\\end{equation}\n",
    "\n",
    "We are given:<br> \n",
    "$0.17 \\leq k \\leq 0.20, k = 0.185 \\pm 0.015 \\frac{W}{m K}$<br>\n",
    "$l = 11.25 \\times .0254 \\pm 0.001 \\times .0254 \\text{m}$ <br>\n",
    "$\\Delta T = 40/60 - (24.1 \\pm\\ 0.05) = 15.9/35.9 \\pm 0.05 ^{\\circ}\\text{C}$<br>\n",
    "Outer diameter: $8 \\times .0254 \\pm 0.045 \\times .0254 \\text{m}$ <br>\n",
    "Wall Thickness: $0.375 \\times .0254 \\pm 0.05625 \\times .0254 \\text{m}$ (15% of 0.375)<br>\n",
    "\n"
   ]
  },
  {
   "cell_type": "markdown",
   "metadata": {},
   "source": [
    "Each value with its uncertainty is initialized below"
   ]
  },
  {
   "cell_type": "code",
   "execution_count": 62,
   "metadata": {},
   "outputs": [],
   "source": [
    "k, k_u = 0.185, 0.015\n",
    "l, l_u = 0.28575, 2.54*10**(-5) #11.25 * 0.0254, 0.001 * .0254\n",
    "# Outer diameter is 8\" +- 0.045\"\n",
    "# Wall thickness is 3/8\" +- 0.05625\" (15%)\n",
    "# Divide diameter by 2 to get outer radius,\n",
    "# Outer radius is 4\" +- 0.0225\n",
    "r2, r2_u = 4 * .0254, 0.0225 * .0254\n",
    "# Subtract thickness from outer radius to get inner radius, add uncertainties\n",
    "# Inner radius is 3.625\" +- (0.0225 + 0.05625)\n",
    "r1, r1_u = 3.625 * .0254, (0.0225 + 0.05625) * .0254"
   ]
  },
  {
   "cell_type": "markdown",
   "metadata": {},
   "source": [
    "We use the uncertainties package to create objects that perform error propagation for us during operations (I still verified that the uncertainty calculations were correct afterwards). Note that due to the self-reference in the declarations, you will receive an error if you run this cell multiple times without running the previous code cell above."
   ]
  },
  {
   "cell_type": "code",
   "execution_count": 63,
   "metadata": {},
   "outputs": [],
   "source": [
    "from uncertainties import ufloat\n",
    "import math\n",
    "\n",
    "k = ufloat(k, k_u)\n",
    "l = ufloat(l, l_u)\n",
    "dT = ufloat(15.9, 0.1) # Internal Temperature = 40 degrees\n",
    "r1 = ufloat(r1, r1_u)\n",
    "r2 = ufloat(r2, r2_u)"
   ]
  },
  {
   "cell_type": "markdown",
   "metadata": {},
   "source": [
    "Plugging all of our values:"
   ]
  },
  {
   "cell_type": "code",
   "execution_count": 64,
   "metadata": {},
   "outputs": [
    {
     "name": "stdout",
     "output_type": "stream",
     "text": [
      "53.649173267163725\n",
      "12.984897557604475\n"
     ]
    }
   ],
   "source": [
    "from uncertainties import umath\n",
    "Q = 2 * k * math.pi * l * dT / umath.log(r2 / r1)\n",
    "print(Q.n) # Actual value\n",
    "print(Q.s) # Uncertainty/standard deviation"
   ]
  },
  {
   "cell_type": "markdown",
   "metadata": {},
   "source": [
    "T = 40:<br>\n",
    "53.649173267163725<br>\n",
    "12.984897557604475<br>\n",
    "\n",
    "T = 60:<br>\n",
    "121.13241008120613<br>\n",
    "29.310144280180875<br>\n",
    "\n",
    "For 40 degrees, $Q = 50 \\pm 10 W$<br>\n",
    "For 60 degrees, $Q = 120 \\pm 30 W$<br>\n",
    "This is for the heat loss through the walls. These values are expectedly less than the values we obtained\n",
    "experimentally, which would account for heat loss through the top and bottom plates as well."
   ]
  },
  {
   "cell_type": "markdown",
   "metadata": {},
   "source": [
    "These are the actual heat losses obtained from the experiment, see notes.txt for a further explanation. We use the data from B(old) because it fits better with our expected values (heat loss increases with pressure)."
   ]
  },
  {
   "cell_type": "markdown",
   "metadata": {},
   "source": [
    "![heat_loss_summary.jpg](heat_loss_summary.png)"
   ]
  },
  {
   "cell_type": "markdown",
   "metadata": {},
   "source": [
    "Each time value has an uncertainty of $0.05s$ and each energy reading has an uncertainty of $0.05 kJ$. Therefore we need to make uncertainty objects reflecting these considerations."
   ]
  },
  {
   "cell_type": "code",
   "execution_count": 71,
   "metadata": {},
   "outputs": [
    {
     "name": "stdout",
     "output_type": "stream",
     "text": [
      "Trial A: 75.54076539101497 +/- 0.333726836873501\n",
      "Trial B: 83.90646492434662 +/- 0.6901746722307014\n",
      "Trial C: 160.5839416058394 +/- 0.49285232771585674\n",
      "Trial D: 217.11711711711712 +/- 0.46094527520991324\n"
     ]
    }
   ],
   "source": [
    "# 40C, 40PSI\n",
    "ta, Qa = ufloat(300.5, 0.1), ufloat(22.7 * 1000, 0.1 * 1000)\n",
    "# 40C, 70PSI\n",
    "tb, Qb = ufloat(145.4, 0.1), ufloat(12.2 * 1000, 0.1 * 1000)\n",
    "# 60C, 40PSI\n",
    "tc, Qc = ufloat(205.5, 0.1), ufloat(33.0 * 1000, 0.1 * 1000)\n",
    "# 60C, 70PSI\n",
    "td, Qd = ufloat(222.0, 0.1), ufloat(48.2 * 1000, 0.1 * 1000)\n",
    "\n",
    "Wa = Qa/ta\n",
    "Wb = Qb/tb\n",
    "Wc = Qc/tc\n",
    "Wd = Qd/td\n",
    "\n",
    "print(f\"Trial A: {Wa.n} +/- {Wa.s}\")\n",
    "print(f\"Trial B: {Wb.n} +/- {Wb.s}\")\n",
    "print(f\"Trial C: {Wc.n} +/- {Wc.s}\")\n",
    "print(f\"Trial D: {Wd.n} +/- {Wd.s}\")\n"
   ]
  },
  {
   "cell_type": "markdown",
   "metadata": {},
   "source": [
    "Trial A: 75.54076539101497 +/- 0.333726836873501<br>\n",
    "Trial B: 83.90646492434662 +/- 0.6901746722307014<br>\n",
    "Trial C: 160.5839416058394 +/- 0.49285232771585674<br>\n",
    "Trial D: 217.11711711711712 +/- 0.46094527520991324<br>"
   ]
  },
  {
   "cell_type": "markdown",
   "metadata": {},
   "source": [
    "Trial A: $75.5 \\pm 0.3$<br>\n",
    "Trial B: $83.9 \\pm 0.7$<br>\n",
    "Trial C: $160.6 \\pm 0.5$<br>\n",
    "Trial D: $217.1 \\pm 0.5$<br>"
   ]
  },
  {
   "cell_type": "markdown",
   "metadata": {},
   "source": [
    "Subtracting the calculated heat loss through the cylinder walls, we get the following heat losses through the top and bottom of the cylinder:<br>\n",
    "Trial A: $21.9 \\pm 13.3$<br>\n",
    "Trial B: $30.3 \\pm 13.7$<br>\n",
    "Trial C: $39.5 \\pm 29.8$<br>\n",
    "Trial D: $"
   ]
  },
  {
   "cell_type": "markdown",
   "metadata": {},
   "source": [
    "Extra: Verify calculations for Uncertainty Propagation:"
   ]
  },
  {
   "cell_type": "markdown",
   "metadata": {},
   "source": [
    "![uncertainty propagation](uncertainty_propagation.jpg)"
   ]
  },
  {
   "cell_type": "code",
   "execution_count": 69,
   "metadata": {},
   "outputs": [
    {
     "name": "stdout",
     "output_type": "stream",
     "text": [
      "12.984897557604473\n"
     ]
    }
   ],
   "source": [
    "dQdk, dk = 2 * math.pi * 15.9 * l.n/ math.log(r2.n/r1.n), k.s\n",
    "dQdT, dT = 2 * math.pi * k.n * l.n / math.log(r2.n/r1.n), 0.1\n",
    "dQdl, dl = 2 * math.pi * k.n * 15.9 / math.log(r2.n/r1.n), l.s\n",
    "dQdr1, dr1 = 2 * math.pi * k.n * l.n * 15.9 / (r1.n*(math.log(r2.n/r1.n)**2)), r1.s\n",
    "dQdr2, dr2 = -2 * math.pi * k.n * l.n * 15.9 / (r2.n*(math.log(r2.n/r1.n)**2)), r2.s\n",
    "\n",
    "u = math.sqrt((dQdk * dk)**2 + (dQdT * dT)**2 + (dQdl * dl)**2 + (dQdr1 * dr1)**2 + (dQdr2 * dr2)**2)\n",
    "print(u) # returns 12.9849, equal to the uncertainty we got using our uncertainties package.\n"
   ]
  }
 ],
 "metadata": {
  "kernelspec": {
   "display_name": "Python 3.10.4 ('ml')",
   "language": "python",
   "name": "python3"
  },
  "language_info": {
   "codemirror_mode": {
    "name": "ipython",
    "version": 3
   },
   "file_extension": ".py",
   "mimetype": "text/x-python",
   "name": "python",
   "nbconvert_exporter": "python",
   "pygments_lexer": "ipython3",
   "version": "3.10.4"
  },
  "orig_nbformat": 4,
  "vscode": {
   "interpreter": {
    "hash": "c526402f38749dae0827a0761c2faa57be961708636b6e5d1008811c29bd36a0"
   }
  }
 },
 "nbformat": 4,
 "nbformat_minor": 2
}
